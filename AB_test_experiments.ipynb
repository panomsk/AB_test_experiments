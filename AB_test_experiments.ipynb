{
 "cells": [
  {
   "cell_type": "markdown",
   "id": "56e4c722",
   "metadata": {},
   "source": [
    "# AB test experiments"
   ]
  },
  {
   "cell_type": "markdown",
   "id": "e4e7b404",
   "metadata": {},
   "source": [
    "Проведем ряд экспериментов для более глубокого понимания принципов проведения АБ-тестирования и применяемых для этого статистических методов"
   ]
  },
  {
   "cell_type": "markdown",
   "id": "f59d5e33",
   "metadata": {},
   "source": [
    "## Распределение p-value для выборок из одной генеральной совокупности "
   ]
  },
  {
   "cell_type": "code",
   "execution_count": 1,
   "id": "faa4ca5f",
   "metadata": {},
   "outputs": [],
   "source": [
    "import pandas as pd\n",
    "import numpy as np\n",
    "from scipy.stats import ttest_ind\n",
    "from tqdm.notebook import tqdm\n",
    "from matplotlib.pyplot import plot\n",
    "import seaborn as sns"
   ]
  },
  {
   "cell_type": "markdown",
   "id": "3c6f2ea8",
   "metadata": {},
   "source": [
    "Сгенерируем две выборки с нормальным распределением с одинаковыми параметрами (среднее 10, стандартное отклонение 1, размер выборки 1000), т.е. выборки принадлежат одной генеральной совокупности"
   ]
  },
  {
   "cell_type": "code",
   "execution_count": 2,
   "id": "0e39ab68",
   "metadata": {},
   "outputs": [],
   "source": [
    "r_1 = np.random.normal(10, 1, 1000)\n",
    "r_2 = np.random.normal(10, 1, 1000)"
   ]
  },
  {
   "cell_type": "markdown",
   "id": "58e64f60",
   "metadata": {},
   "source": [
    "Построим гистограммы полученных распределений"
   ]
  },
  {
   "cell_type": "code",
   "execution_count": 3,
   "id": "bef14048",
   "metadata": {},
   "outputs": [
    {
     "data": {
      "text/plain": [
       "<seaborn.axisgrid.FacetGrid at 0x163923c1850>"
      ]
     },
     "execution_count": 3,
     "metadata": {},
     "output_type": "execute_result"
    },
    {
     "data": {
      "image/png": "[encoded data removed]",
      "text/plain": [
       "<Figure size 406.5x360 with 1 Axes>"
      ]
     },
     "metadata": {
      "needs_background": "light"
     },
     "output_type": "display_data"
    }
   ],
   "source": [
    "sns.displot(pd.DataFrame(r_1, columns=['r1']).join(pd.DataFrame(r_2, columns=['r2'])), kind='kde', fill=True)"
   ]
  },
  {
   "cell_type": "code",
   "execution_count": 4,
   "id": "824371f1",
   "metadata": {},
   "outputs": [
    {
     "data": {
      "text/plain": [
       "Ttest_indResult(statistic=-0.10430410384106242, pvalue=0.9169384900516593)"
      ]
     },
     "execution_count": 4,
     "metadata": {},
     "output_type": "execute_result"
    }
   ],
   "source": [
    "result = ttest_ind(r_1, r_2)\n",
    "result"
   ]
  },
  {
   "cell_type": "markdown",
   "id": "74c30918",
   "metadata": {},
   "source": [
    "Что же такое `p-value`: Если мы не отвергаем H0 (т.е. считаем что обе выборки принадлежат одной генеральной совокупности), то с вероятностью `p-value` мы бы могли получить такие выборки или еще более отличающиеся.\n",
    "P-value обычно сравнивают со значением статистической значимости = 0.05 (5%) или 0.01 (1%)."
   ]
  },
  {
   "cell_type": "markdown",
   "id": "f4bdbe8b",
   "metadata": {},
   "source": [
    "Пусть в качестве границы выбрали 0.05  \n",
    "Тогда:  \n",
    "Если **p-value>0.05**, то нулевую  гипотезу **не отвергаем**. Нулева гипотеза говорит о том что выборки принадлежат одной генеральной совокупности и разница между ними не статистически значима.  \n",
    "Если **p-value<0.05**, то нулевую  гипотезу **отвергаем**. Соответственно считаем что выборки не принадлежат одной генеральной совокупности (более корректноый тезис - считаем что не подтвердилась гипотеза о принадлежности выборок одной генеральной совокупности)."
   ]
  },
  {
   "cell_type": "markdown",
   "id": "e314be7e",
   "metadata": {},
   "source": [
    "Интересный факт - если рассчитывать p-value для случайных выборок из одной генеральной совокупности, то получим равномерное распределение. Давайте его подтвердим."
   ]
  },
  {
   "cell_type": "code",
   "execution_count": 5,
   "id": "418022ce",
   "metadata": {},
   "outputs": [
    {
     "data": {
      "application/vnd.jupyter.widget-view+json": {
       "model_id": "7af3f2a51f7d4c159452493ec98067a3",
       "version_major": 2,
       "version_minor": 0
      },
      "text/plain": [
       "  0%|          | 0/100000 [00:00<?, ?it/s]"
      ]
     },
     "metadata": {},
     "output_type": "display_data"
    },
    {
     "name": "stdout",
     "output_type": "stream",
     "text": [
      "Wall time: 1min 15s\n"
     ]
    }
   ],
   "source": [
    "%%time\n",
    "p_val_list = []\n",
    "for i in tqdm(range(100000)):\n",
    "    norm_1 = np.random.normal(100, 10, 10000)\n",
    "    norm_2 = np.random.normal(100, 10, 10000)\n",
    "    result = ttest_ind(norm_1, norm_2)\n",
    "    p_val_list.append(result[1])   "
   ]
  },
  {
   "cell_type": "code",
   "execution_count": 6,
   "id": "99c69eed",
   "metadata": {},
   "outputs": [
    {
     "data": {
      "text/plain": [
       "array([[<AxesSubplot:title={'center':'0'}>]], dtype=object)"
      ]
     },
     "execution_count": 6,
     "metadata": {},
     "output_type": "execute_result"
    },
    {
     "data": {
      "image/png": "[encoded data removed]",
      "text/plain": [
       "<Figure size 432x288 with 1 Axes>"
      ]
     },
     "metadata": {
      "needs_background": "light"
     },
     "output_type": "display_data"
    }
   ],
   "source": [
    "pd.DataFrame(p_val_list).hist(bins=100)"
   ]
  },
  {
   "cell_type": "markdown",
   "id": "ae5abd20",
   "metadata": {},
   "source": [
    "**Мы видим равномерное распределение!!!**\n",
    "\n",
    "**Таким образом, при любом выборе уровня статистической значимости мы можем ошибиться.**  \n",
    "Например, при уровне статистической значимости 0.05 мы получили p-value 0.04999 и отвергли нулевую гипотезу (т.е. считаем что гипотеза о принадлежности выборок одной генеральной совокупности не верна).    \n",
    "**Вспоминаем о том, что получили равномерное распределение для p-value выборок из одной генеральной совокупности => с вероятностью в 5% мы ошиблись (в 1 случае из 20 мы ошибочно отвергаем нулевую гипотезу, т.е. такие выборки могли бы быть получены из одной генеральной совокупности)**"
   ]
  },
  {
   "cell_type": "markdown",
   "id": "32d16b78",
   "metadata": {},
   "source": [
    "## Распределение p-value для выборок из одной генеральной совокупности "
   ]
  },
  {
   "cell_type": "markdown",
   "id": "66393153",
   "metadata": {},
   "source": [
    "В работе"
   ]
  }
 ],
 "metadata": {
  "kernelspec": {
   "display_name": "Python 3 (ipykernel)",
   "language": "python",
   "name": "python3"
  },
  "language_info": {
   "codemirror_mode": {
    "name": "ipython",
    "version": 3
   },
   "file_extension": ".py",
   "mimetype": "text/x-python",
   "name": "python",
   "nbconvert_exporter": "python",
   "pygments_lexer": "ipython3",
   "version": "3.9.7"
  }
 },
 "nbformat": 4,
 "nbformat_minor": 5
}
