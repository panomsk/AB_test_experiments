{
 "cells": [
  {
   "cell_type": "markdown",
   "id": "56e4c722",
   "metadata": {},
   "source": [
    "# AB test experiments"
   ]
  },
  {
   "cell_type": "markdown",
   "id": "e4e7b404",
   "metadata": {},
   "source": [
    "Проведем ряд экспериментов для более глубокого понимания принципов проведения АБ-тестирования и применяемых для этого статистических методов"
   ]
  },
  {
   "cell_type": "markdown",
   "id": "f59d5e33",
   "metadata": {},
   "source": [
    "## Распределение p-value "
   ]
  },
  {
   "cell_type": "code",
   "execution_count": null,
   "id": "faa4ca5f",
   "metadata": {},
   "outputs": [],
   "source": []
  }
 ],
 "metadata": {
  "kernelspec": {
   "display_name": "Python 3 (ipykernel)",
   "language": "python",
   "name": "python3"
  },
  "language_info": {
   "codemirror_mode": {
    "name": "ipython",
    "version": 3
   },
   "file_extension": ".py",
   "mimetype": "text/x-python",
   "name": "python",
   "nbconvert_exporter": "python",
   "pygments_lexer": "ipython3",
   "version": "3.9.7"
  }
 },
 "nbformat": 4,
 "nbformat_minor": 5
}
